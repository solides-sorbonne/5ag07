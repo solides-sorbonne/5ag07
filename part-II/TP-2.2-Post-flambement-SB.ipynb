{
 "cells": [
  {
   "cell_type": "markdown",
   "metadata": {},
   "source": [
    "# TP 2.2 Flambement et postflambement d'un poteau"
   ]
  },
  {
   "cell_type": "markdown",
   "metadata": {},
   "source": [
    "Ceci est un exemple de solution du TP 2.2 (partie post-flambement). Quelques points à noter\n",
    "\n",
    "1. Cette feuille de calcul ne fait pas appel à la fonction ``utils.plotbeam``. Une implémentation indépendante est proposée ci-après (voir ``deformed_beam``).\n",
    "2. Le critère d'arrêt des itérations de Newton porte sur la norme de l'incrément, pas sur la norme du résidu (critère \"d'absence de progrès\").\n",
    "\n",
    "*Auteur : Sébastien Brisard (2018)*"
   ]
  },
  {
   "cell_type": "code",
   "execution_count": null,
   "metadata": {},
   "outputs": [],
   "source": [
    "import dolfin\n",
    "import numpy as np\n",
    "import matplotlib.pyplot as plt"
   ]
  },
  {
   "cell_type": "code",
   "execution_count": null,
   "metadata": {},
   "outputs": [],
   "source": [
    "from dolfin import (cos, Constant, DirichletBC, dx, Expression, FiniteElement,\n",
    "                    Function, FunctionSpace, interpolate,\n",
    "                    LinearVariationalProblem, LinearVariationalSolver, norm,\n",
    "                    solve, sin, TrialFunction, TestFunction, UnitIntervalMesh)"
   ]
  },
  {
   "cell_type": "code",
   "execution_count": null,
   "metadata": {},
   "outputs": [],
   "source": [
    "%matplotlib inline\n",
    "plt.rcParams['figure.figsize'] = (12, 8)"
   ]
  },
  {
   "cell_type": "code",
   "execution_count": null,
   "metadata": {},
   "outputs": [],
   "source": [
    "N = 100     # Number of elements\n",
    "degree = 1  # Degree of finite elements\n",
    "rtol = 1e-4\n",
    "atol = 1e-6\n",
    "max_iter = 50"
   ]
  },
  {
   "cell_type": "code",
   "execution_count": null,
   "metadata": {},
   "outputs": [],
   "source": [
    "def deformed_beam(θ, degree=1):\n",
    "    V = θ.function_space()\n",
    "    test, trial = TestFunction(V), TrialFunction(V)\n",
    "    bc = DirichletBC(V, 0., 'on_boundary && near(x[0], 0.)')\n",
    "    a = trial.dx(0)*test*dx\n",
    "\n",
    "    u = Function(V)\n",
    "    solve(a == cos(θ)*test*dx, u, bc)\n",
    "\n",
    "    v = Function(V)\n",
    "    solve(a == sin(θ)*test*dx, v, bc)\n",
    "    return u, v"
   ]
  },
  {
   "cell_type": "code",
   "execution_count": null,
   "metadata": {},
   "outputs": [],
   "source": [
    "def initial_guess(κ0, V, degree=1):\n",
    "    expr = Expression('{}+kappa0*x[0]'.format(np.pi/2), kappa0=κ0, degree=degree)\n",
    "    return interpolate(expr, V)"
   ]
  },
  {
   "cell_type": "code",
   "execution_count": null,
   "metadata": {},
   "outputs": [],
   "source": [
    "mesh = UnitIntervalMesh(N)"
   ]
  },
  {
   "cell_type": "code",
   "execution_count": null,
   "metadata": {},
   "outputs": [],
   "source": [
    "element = FiniteElement('CG', mesh.ufl_cell(), degree=degree)\n",
    "V = FunctionSpace(mesh, element)"
   ]
  },
  {
   "cell_type": "code",
   "execution_count": null,
   "metadata": {},
   "outputs": [],
   "source": [
    "bcs = [DirichletBC(V, 0., \"on_boundary && near(x[0], 0.)\")]"
   ]
  },
  {
   "cell_type": "code",
   "execution_count": null,
   "metadata": {},
   "outputs": [],
   "source": [
    "κ0 = Constant(0.1)\n",
    "λ = Constant(1.0)\n",
    "\n",
    "θ = Function(V)\n",
    "\n",
    "Δθ = TrialFunction(V)\n",
    "δθ = TestFunction(V)\n",
    "a = (Δθ.dx(0)*δθ.dx(0)-λ*sin(θ)*Δθ*δθ)*dx\n",
    "L = -((θ.dx(0)-κ0)*δθ.dx(0)+λ*cos(θ)*δθ)*dx"
   ]
  },
  {
   "cell_type": "code",
   "execution_count": null,
   "metadata": {},
   "outputs": [],
   "source": [
    "Δθ = Function(V)\n",
    "problem = LinearVariationalProblem(a, L, Δθ, bcs)\n",
    "solver = LinearVariationalSolver(problem)"
   ]
  },
  {
   "cell_type": "code",
   "execution_count": null,
   "metadata": {
    "scrolled": false
   },
   "outputs": [],
   "source": [
    "κ0_vals = np.array([0.01, .1, .2, .4, .5,  1., 10.])\n",
    "λ_vals = np.linspace(0., 5., num=21)\n",
    "#λ_vals = np.array([2.5])\n",
    "u_top = np.empty((κ0_vals.shape[0], λ_vals.shape[0]))\n",
    "v_top = np.empty_like(u_top)\n",
    "\n",
    "for i, κ0_val in enumerate(κ0_vals):\n",
    "    κ0.assign(κ0_val)\n",
    "    θ.assign(initial_guess(κ0_val, V))\n",
    "\n",
    "    plt.figure()\n",
    "    plt.title('κ₀ = {}'.format(κ0_val))\n",
    "    plt.axis('equal')\n",
    "\n",
    "    for j, λ_val in enumerate(λ_vals):\n",
    "        λ.assign(λ_val)\n",
    "\n",
    "        for k in range(max_iter):\n",
    "            solver.solve()\n",
    "            θ.assign(θ+Δθ)\n",
    "            \n",
    "            norm_Δθ = norm(Δθ, 'L2')\n",
    "            norm_θ = norm(θ, 'L2')\n",
    "            if norm_Δθ <= rtol*norm_θ+atol:\n",
    "                break\n",
    "        else:\n",
    "            raise RuntimeError('could not converge {} {} {} {}'.format(κ0_val, λ_val, norm_Δθ, norm_θ))\n",
    "            \n",
    "        u, v = deformed_beam(θ)\n",
    "        plt.plot(u.compute_vertex_values(),\n",
    "                 v.compute_vertex_values(),\n",
    "                 label='λ = {}'.format(λ_val))\n",
    "        u_top[i, j] = u(1.0)\n",
    "        v_top[i, j] = v(1.0)\n",
    "    plt.legend()"
   ]
  },
  {
   "cell_type": "code",
   "execution_count": null,
   "metadata": {},
   "outputs": [],
   "source": [
    "for i, κ0_val in enumerate(κ0_vals):\n",
    "    plt.plot(λ_vals, np.abs(v_top[i]),\n",
    "             label='κ₀ = {}'.format(κ0_val))\n",
    "plt.legend()"
   ]
  }
 ],
 "metadata": {
  "kernelspec": {
   "display_name": "Python 3",
   "language": "python",
   "name": "python3"
  },
  "language_info": {
   "codemirror_mode": {
    "name": "ipython",
    "version": 3
   },
   "file_extension": ".py",
   "mimetype": "text/x-python",
   "name": "python",
   "nbconvert_exporter": "python",
   "pygments_lexer": "ipython3",
   "version": "3.5.3"
  }
 },
 "nbformat": 4,
 "nbformat_minor": 2
}
