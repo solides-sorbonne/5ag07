{
 "cells": [
  {
   "cell_type": "markdown",
   "metadata": {},
   "source": [
    "# Deflection of a heavy hyperelastic beam \n",
    "\n",
    "In this notebook we give an example for the solution of a problem of nonlinear elasticity\n",
    "\n",
    "We focus on the simple problem of a cantilever beam loaded only by its own weigth\n",
    "\n",
    "We exploit `UFL` features for automatic symbolic differentiation and formulate the porblme by writing the potential energy of the system. \n",
    "\n",
    "You can use this example in conjuction with the `FEniCS` demo on hypelasticity \n",
    "https://fenicsproject.org/docs/dolfin/2018.1.0/python/demos/hyperelasticity/demo_hyperelasticity.py.html\n",
    "to solve more complex problems including bifurcations and instability for your project."
   ]
  },
  {
   "cell_type": "code",
   "execution_count": 64,
   "metadata": {},
   "outputs": [
    {
     "data": {
      "image/png": "[encoded data removed]",
      "text/plain": [
       "<Figure size 576x396 with 1 Axes>"
      ]
     },
     "metadata": {
      "needs_background": "light"
     },
     "output_type": "display_data"
    }
   ],
   "source": [
    "from dolfin import *\n",
    "#from mshr import *\n",
    "import numpy as np\n",
    "import matplotlib.pyplot as plt\n",
    "# Optimization options for the form compiler\n",
    "parameters[\"form_compiler\"][\"cpp_optimize\"] = True\n",
    "parameters[\"form_compiler\"][\"representation\"] = \"uflacs\"\n",
    "%matplotlib inline\n",
    "plt.style.use('seaborn-notebook')\n",
    "# Create mesh and define boundaries fof BCs\n",
    "Lx, Ly = 1., .1\n",
    "mesh = RectangleMesh(Point(0,0),Point(Lx,Ly),20,4)\n",
    "n = mesh.geometry().dim() # number of space dimensions\n",
    "plot(mesh)\n",
    "# Mark boundary subdomians\n",
    "left = CompiledSubDomain(\"near(x[0],0) && on_boundary\")\n",
    "right = CompiledSubDomain(\"near(x[0],Lx) && on_boundary\", Lx=Lx)\n",
    "bottom = CompiledSubDomain(\"near(x[1],0) && on_boundary\")\n",
    "# Mark facets for Neuman BCs\n",
    "boundary_markers = MeshFunction(\"size_t\", mesh,1,0)\n",
    "left.mark(boundary_markers, 1)\n",
    "right.mark(boundary_markers, 2)\n",
    "# Redefine element of area to include informations about surface tension\n",
    "ds = ds(domain=mesh,subdomain_data=boundary_markers)"
   ]
  },
  {
   "cell_type": "code",
   "execution_count": 65,
   "metadata": {},
   "outputs": [],
   "source": [
    "# Elasticity parameters\n",
    "E, nu = 1.e6, 0.3\n",
    "mu, lmbda = Constant(E/(2*(1 + nu))), Constant(E*nu/((1 + nu)*(1 - 2*nu)))\n",
    "lmbda = 2*lmbda*mu/(lmbda + 2*mu) # This is to put plane-stress moduli"
   ]
  },
  {
   "cell_type": "code",
   "execution_count": 66,
   "metadata": {},
   "outputs": [],
   "source": [
    "V_element = VectorElement('CG',triangle, 1) \n",
    "scalar_element = FiniteElement('CG',triangle, 1) \n",
    "V = FunctionSpace(mesh, V_element)\n",
    "V_scalar = FunctionSpace(mesh, scalar_element)"
   ]
  },
  {
   "cell_type": "code",
   "execution_count": 67,
   "metadata": {},
   "outputs": [],
   "source": [
    "# Define functions\n",
    "du = TrialFunction(V)            # Incremental displacement\n",
    "v  = TestFunction(V)             # Test function\n",
    "u  = Function(V)                 # Displacement from previous iteration\n",
    "\n",
    "# Kinematics\n",
    "I = Identity(n)    # Identity tensor\n",
    "F = variable(I + grad(u))             # Deformation gradient\n",
    "C = F.T*F                   # Right Cauchy-Green tensor\n",
    "\n",
    "# Invariants of deformation tensors\n",
    "Ic = tr(C)\n",
    "J  = det(F)\n",
    "\n",
    "# Stored strain energy density (compressible neo-Hookean model)\n",
    "psi = (mu/2)*(Ic - 2) - mu*ln(J) + (lmbda/2)*(ln(J))**2\n",
    "\n",
    "# External loads\n",
    "B = Expression((\"0.0\", \"t\"),t=0,degree=0)  \n",
    "T = E*Constant((0.0, 0)) \n",
    "\n",
    "# Total potential energy\n",
    "PotentialEnergy = psi*dx - dot(B, u)*dx - dot(T, u)*ds(2)\n",
    "\n",
    "# Compute first variation of Pi (directional derivative about u in the direction of v)\n",
    "dE = derivative(PotentialEnergy, u, v)\n",
    "\n",
    "# Compute Jacobian of the energy\n",
    "ddE = derivative(dE, u, du)\n",
    "\n",
    "# First Piola-Kirchhoff stress\n",
    "S = diff(psi, F) \n",
    "n = FacetNormal(mesh) # normal to the mesh"
   ]
  },
  {
   "cell_type": "code",
   "execution_count": 71,
   "metadata": {},
   "outputs": [],
   "source": [
    "# # Save solution in VTK format\n",
    "file_u = File(\"results/beam.pvd\");\n",
    "\n",
    "bcl = DirichletBC(V, (0.,0.), left)\n",
    "bcs = [bcl]\n",
    "\n",
    "# Set the variational problemb\n",
    "problem = NonlinearVariationalProblem(dE, u, bcs=bcs, J=ddE)\n",
    "solver = NonlinearVariationalSolver(problem)"
   ]
  },
  {
   "cell_type": "code",
   "execution_count": 74,
   "metadata": {},
   "outputs": [
    {
     "ename": "RuntimeError",
     "evalue": "\n\n*** -------------------------------------------------------------------------\n*** DOLFIN encountered an error. If you are not able to resolve this issue\n*** using the information listed below, you can ask for help at\n***\n***     fenics-support@googlegroups.com\n***\n*** Remember to include the error message listed below and, if possible,\n*** include a *minimal* running example to reproduce the error.\n***\n*** -------------------------------------------------------------------------\n*** Error:   Unable to solve nonlinear system with NewtonSolver.\n*** Reason:  Newton solver did not converge because maximum number of iterations reached.\n*** Where:   This error was encountered inside NewtonSolver.cpp.\n*** Process: 0\n*** \n*** DOLFIN version: 2018.1.0\n*** Git changeset:  7afe9e1a24edb0e8d5ae51c3419fbb49f44d3d79\n*** -------------------------------------------------------------------------\n",
     "output_type": "error",
     "traceback": [
      "\u001b[0;31m---------------------------------------------------------------------------\u001b[0m",
      "\u001b[0;31mRuntimeError\u001b[0m                              Traceback (most recent call last)",
      "\u001b[0;32m<ipython-input-74-343101edb4c8>\u001b[0m in \u001b[0;36m<module>\u001b[0;34m()\u001b[0m\n\u001b[1;32m      2\u001b[0m \u001b[0;32mfor\u001b[0m \u001b[0;34m(\u001b[0m\u001b[0mi\u001b[0m\u001b[0;34m,\u001b[0m\u001b[0mt\u001b[0m\u001b[0;34m)\u001b[0m \u001b[0;32min\u001b[0m \u001b[0menumerate\u001b[0m\u001b[0;34m(\u001b[0m\u001b[0mloads\u001b[0m\u001b[0;34m)\u001b[0m\u001b[0;34m:\u001b[0m\u001b[0;34m\u001b[0m\u001b[0m\n\u001b[1;32m      3\u001b[0m     \u001b[0mB\u001b[0m\u001b[0;34m.\u001b[0m\u001b[0mt\u001b[0m \u001b[0;34m=\u001b[0m \u001b[0;34m-\u001b[0m\u001b[0mt\u001b[0m\u001b[0;34m*\u001b[0m\u001b[0mmu\u001b[0m\u001b[0;34m\u001b[0m\u001b[0m\n\u001b[0;32m----> 4\u001b[0;31m     \u001b[0msolver\u001b[0m\u001b[0;34m.\u001b[0m\u001b[0msolve\u001b[0m\u001b[0;34m(\u001b[0m\u001b[0;34m)\u001b[0m\u001b[0;34m\u001b[0m\u001b[0m\n\u001b[0m\u001b[1;32m      5\u001b[0m     \u001b[0mfile_u\u001b[0m \u001b[0;34m<<\u001b[0m \u001b[0;34m(\u001b[0m\u001b[0mu\u001b[0m\u001b[0;34m,\u001b[0m\u001b[0mt\u001b[0m\u001b[0;34m)\u001b[0m\u001b[0;34m\u001b[0m\u001b[0m\n\u001b[1;32m      6\u001b[0m     \u001b[0mplt\u001b[0m\u001b[0;34m.\u001b[0m\u001b[0mfigure\u001b[0m\u001b[0;34m(\u001b[0m\u001b[0;36m1\u001b[0m\u001b[0;34m)\u001b[0m\u001b[0;34m\u001b[0m\u001b[0m\n",
      "\u001b[0;31mRuntimeError\u001b[0m: \n\n*** -------------------------------------------------------------------------\n*** DOLFIN encountered an error. If you are not able to resolve this issue\n*** using the information listed below, you can ask for help at\n***\n***     fenics-support@googlegroups.com\n***\n*** Remember to include the error message listed below and, if possible,\n*** include a *minimal* running example to reproduce the error.\n***\n*** -------------------------------------------------------------------------\n*** Error:   Unable to solve nonlinear system with NewtonSolver.\n*** Reason:  Newton solver did not converge because maximum number of iterations reached.\n*** Where:   This error was encountered inside NewtonSolver.cpp.\n*** Process: 0\n*** \n*** DOLFIN version: 2018.1.0\n*** Git changeset:  7afe9e1a24edb0e8d5ae51c3419fbb49f44d3d79\n*** -------------------------------------------------------------------------\n"
     ]
    }
   ],
   "source": [
    "loads = np.linspace(0,0.05, 5)\n",
    "for (i,t) in enumerate(loads):\n",
    "    B.t = -t*mu\n",
    "    solver.solve()\n",
    "    file_u << (u,t)\n",
    "    plt.figure(1)\n",
    "    plot(u, mode = \"displacement\")"
   ]
  },
  {
   "cell_type": "markdown",
   "metadata": {},
   "source": [
    "# The code below can contains useful hints to solve the buckling problems, but it is not necessary for the case of the heavy beam\n"
   ]
  },
  {
   "cell_type": "code",
   "execution_count": 73,
   "metadata": {},
   "outputs": [
    {
     "name": "stdout",
     "output_type": "stream",
     "text": [
      "B/mu==0.00, u=-0.00\n",
      "B/mu==0.01, u=-0.43\n",
      "B/mu==0.03, u=-0.66\n",
      "B/mu==0.04, u=-0.76\n",
      "B/mu==0.05, u=-0.82\n"
     ]
    },
    {
     "data": {
      "text/plain": [
       "Text(0,0.5,'displacement')"
      ]
     },
     "execution_count": 73,
     "metadata": {},
     "output_type": "execute_result"
    },
    {
     "data": {
      "image/png": "[encoded data removed]",
      "text/plain": [
       "<Figure size 576x396 with 1 Axes>"
      ]
     },
     "metadata": {
      "needs_background": "light"
     },
     "output_type": "display_data"
    },
    {
     "data": {
      "image/png": "[encoded data removed]",
      "text/plain": [
       "<Figure size 576x396 with 1 Axes>"
      ]
     },
     "metadata": {
      "needs_background": "light"
     },
     "output_type": "display_data"
    }
   ],
   "source": [
    "\n",
    "# Set the nonlinear solver\n",
    "solver = NonlinearVariationalSolver(problem)\n",
    "solver.parameters[\"nonlinear_solver\"] = \"newton\"\n",
    "newtonpar = solver.parameters[\"newton_solver\"]\n",
    "newtonpar[\"relaxation_parameter\"] = 1.\n",
    "newtonpar[\"maximum_iterations\"] = 20\n",
    "newtonpar[\"absolute_tolerance\"] = 1.e-7\n",
    "info(solver.parameters,True)\n",
    "\n",
    "I = Ly**3/12.\n",
    "F_buckling = pi**2*E*I/Lx**2\n",
    "u_buckling = F_buckling/(E*Ly)\n",
    "loads = np.linspace(0,0.05, 5)\n",
    "forces = 0.*loads\n",
    "displ = 0.*loads\n",
    "u.rename(\"u\",\"u\")\n",
    "perturbation = interpolate(Expression((\"0\",\"t*x[0]*(L-x[0])\"),L=Lx,t=1e-3,degree=2),V)\n",
    "u.assign(perturbation)\n",
    "ALE.move(mesh,perturbation)\n",
    "for (i,t) in enumerate(loads):\n",
    "    B.t = -t*mu\n",
    "    #u.assign(u+perturbation)\n",
    "    solver.solve()\n",
    "    displ[i] = assemble(u[1]*ds(2))/Ly # average transverse displacement on the rigth end\n",
    "    print(\"B/mu==%2.2f, u=%2.2f\"%(t,displ[i]))\n",
    "    # if i in [0,len(loads)/2,len(loads)-1]: plot(u, mode = \"displacement\")\n",
    "    file_u << (u,t)\n",
    "    plt.figure(1)\n",
    "    plot(u, mode = \"displacement\")\n",
    "\n",
    "plt.figure(0)\n",
    "plt.plot(loads,-displ,\"*\")\n",
    "plt.xlabel(\"load\")\n",
    "plt.ylabel(\"displacement\")"
   ]
  },
  {
   "cell_type": "code",
   "execution_count": null,
   "metadata": {},
   "outputs": [],
   "source": []
  }
 ],
 "metadata": {
  "kernelspec": {
   "display_name": "Python 3",
   "language": "python",
   "name": "python3"
  },
  "language_info": {
   "codemirror_mode": {
    "name": "ipython",
    "version": 3
   },
   "file_extension": ".py",
   "mimetype": "text/x-python",
   "name": "python",
   "nbconvert_exporter": "python",
   "pygments_lexer": "ipython3",
   "version": "3.5.3"
  }
 },
 "nbformat": 4,
 "nbformat_minor": 2
}
