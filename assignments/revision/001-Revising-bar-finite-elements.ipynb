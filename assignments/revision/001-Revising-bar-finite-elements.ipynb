{
 "cells": [
  {
   "cell_type": "markdown",
   "metadata": {},
   "source": [
    "# The bar problem (one dimensional model)\n",
    "\n",
    "Consider the a straight bar of length $L$, cross section area $A$, Young modulus $E$ and mass density $\\rho$ suspended vertically under its own weigth. Let us denote by $u:x\\in(0,L)\\to u(x)\\in\\mathcal{R}$ the axial displacement field of the bar. We use here a one-dimensional bar model.\n",
    "\n",
    "1 - Derive the equibrium equation for $u$ and the associated boundary conditions by the following methods:\n",
    "    * Newton's principle\n",
    "    * Virtual power principle\n",
    "    * Principle of minumum of the potential energy\n",
    "\n",
    "2 - Solve analytically the problem for a homogeneous bar\n",
    "\n",
    "3 - Show that the variational formulation of the problem is in the form\n",
    "$$\n",
    "\\text{Find } u\\in\\mathcal{C} \\text{ such that } a(u,v)=\\ell(v) \\text{ for all } v\\in\\mathcal{C}_0\n",
    "$$\n",
    "Give the expression and the properties of $\\mathcal{C},\\mathcal{C}_0$, $a$, $\\ell$.\n",
    "\n",
    "4 - Give a Galerkin approximation of the problem, using $P_1$ finite elements as basis functions. \n",
    "\n",
    "5 - Derive the expression of the element stiffness matrix and load vector\n",
    "\n",
    "6 - Write a python program to solve the problem by the finite element method. "
   ]
  },
  {
   "cell_type": "markdown",
   "metadata": {},
   "source": [
    "# The bar problem (three dimensional model)\n",
    "\n",
    "* Answer to questions 1, 2, 3 when considering a three-dimensional model for the structure"
   ]
  }
 ],
 "metadata": {
  "kernelspec": {
   "display_name": "Python 3",
   "language": "python",
   "name": "python3"
  },
  "language_info": {
   "codemirror_mode": {
    "name": "ipython",
    "version": 3
   },
   "file_extension": ".py",
   "mimetype": "text/x-python",
   "name": "python",
   "nbconvert_exporter": "python",
   "pygments_lexer": "ipython3",
   "version": "3.7.0"
  }
 },
 "nbformat": 4,
 "nbformat_minor": 2
}
